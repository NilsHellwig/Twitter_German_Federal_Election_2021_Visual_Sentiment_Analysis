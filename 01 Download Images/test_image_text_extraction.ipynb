{
 "cells": [
  {
   "cell_type": "code",
   "execution_count": 1,
   "id": "cac18cd2-fc16-44dc-aba9-6568fba07dfe",
   "metadata": {
    "tags": []
   },
   "outputs": [
    {
     "name": "stdout",
     "output_type": "stream",
     "text": [
      "= #new-task- ~submit 1.\n",
      "\n",
      "background: none;\n",
      "\n",
      "= er en tia\n",
      ": : on | |\n",
      "— | enue\n",
      "\n",
      "#new-task-input { — ES\n",
      "\n",
      "padding: 14px;  t—s—te\n",
      "font-weight: 366;  —— : _ _\n",
      "width: 100%; ar\n",
      "\n",
      ": = - oe alll MK ii i i” : he iL\n",
      "#new-task-input::placeholder { Ht al ay\n",
      "\n",
      "color: var citer Sail ieee\n",
      "} NN ; a\n",
      "\n",
      "#new-task—input:-webkit-autofill {\n",
      "\n",
      "-webkit-background-clip: text; /* Safari, Chrome, Opera */\n",
      "\n",
      "background-clip: renee tet Firefox\n",
      "\n",
      "Ss oles 1px; ;\n",
      "\n",
      "a. Sui\n",
      "\n",
      "rn Lite ay =\n",
      "\n",
      ". ui i! if i a \"a ; \"\n",
      "silently\n",
      "\n",
      "Nees\n",
      "| ii ' a id\n",
      "\n",
      "\n"
     ]
    }
   ],
   "source": [
    "from PIL import Image\n",
    "from pytesseract import pytesseract\n",
    "\n",
    "#Define path to tessaract.exe\n",
    "path_to_tesseract = '/opt/homebrew/bin/tesseract'\n",
    "\n",
    "#Define path to image\n",
    "path_to_image = 'example_7.jpg'\n",
    "\n",
    "#Point tessaract_cmd to tessaract.exe\n",
    "pytesseract.tesseract_cmd = path_to_tesseract\n",
    "\n",
    "#Open image with PIL\n",
    "img = Image.open(path_to_image)\n",
    "\n",
    "#Extract text from image\n",
    "text = pytesseract.image_to_string(img)\n",
    "\n",
    "print(text)\n"
   ]
  },
  {
   "cell_type": "code",
   "execution_count": null,
   "id": "bc6d7dc8-6956-4c7c-899d-f2eb6517b658",
   "metadata": {},
   "outputs": [],
   "source": [
    "import pytesseract\n",
    "from pytesseract import Output\n",
    "import cv2\n",
    "img = cv2.imread('example_7.jpg')\n",
    "\n",
    "d = pytesseract.image_to_data(img, output_type=Output.DICT)\n",
    "n_boxes = len(d['level'])\n",
    "for i in range(n_boxes):\n",
    "    (x, y, w, h) = (d['left'][i], d['top'][i], d['width'][i], d['height'][i])\n",
    "    cv2.rectangle(img, (x, y), (x + w, y + h), (0, 255, 0), 2)\n",
    "\n",
    "cv2.imshow('img', img)\n",
    "cv2.waitKey(0)"
   ]
  },
  {
   "cell_type": "code",
   "execution_count": null,
   "id": "fba0b924-beeb-423d-9415-83a55724f6f4",
   "metadata": {},
   "outputs": [],
   "source": []
  }
 ],
 "metadata": {
  "kernelspec": {
   "display_name": "Python 3 (ipykernel)",
   "language": "python",
   "name": "python3"
  },
  "language_info": {
   "codemirror_mode": {
    "name": "ipython",
    "version": 3
   },
   "file_extension": ".py",
   "mimetype": "text/x-python",
   "name": "python",
   "nbconvert_exporter": "python",
   "pygments_lexer": "ipython3",
   "version": "3.10.9"
  }
 },
 "nbformat": 4,
 "nbformat_minor": 5
}
